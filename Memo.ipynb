{
 "cells": [
  {
   "cell_type": "markdown",
   "metadata": {},
   "source": [
    "### Memo.py\n",
    "A Game Where A Player Needs To Memorization A Set Of Numbers Within A Interval Of Time And Then Needs To Type It Again. If Correct, The Player Wins That Round And Each Round Keeps On Getting More And More Difficult As More And More Digits Are Added."
   ]
  },
  {
   "cell_type": "code",
   "execution_count": 1,
   "metadata": {},
   "outputs": [
    {
     "name": "stdout",
     "output_type": "stream",
     "text": [
      "\u001b[H\u001b[2J(!) Game Over!\n",
      "Score: 9\n",
      "Difficulty: Challenge\n",
      "Highest No. Of Digits Remembered: 6\n"
     ]
    }
   ],
   "source": [
    "# START\n",
    "from random import random\n",
    "from time import sleep\n",
    "from IPython.display import clear_output\n",
    "\n",
    "import os\n",
    "\n",
    "difficultyPreset = [\n",
    "    [2, 0.3, 3, 2],\n",
    "    [4, 0.5, 5, 1],\n",
    "    [5, 1, 5, 0.5],\n",
    "    [1, 0.5, 1, 0.1]\n",
    "]\n",
    "\n",
    "score = 0\n",
    "mistakes = 0\n",
    "highestDigitRemembered = 0 \n",
    "\n",
    "def getRandomNumber(numOfDigits):\n",
    "    return f\"{int(random()*(pow(10, numOfDigits))):{0}{numOfDigits}}\"\n",
    "def clearDisplay():\n",
    "    clear_output()\n",
    "    os.system('cls' if os.name == 'nt' else 'clear')\n",
    "\n",
    "def startNewRound(preset):\n",
    "    global score\n",
    "    global mistakes\n",
    "    global highestDigitRemembered\n",
    "    digitCountFloat = preset[0]\n",
    "    digitIncrementPerRound = preset[1]\n",
    "    timeInterval = preset[2]\n",
    "    timeIncrementPerRound = preset[3]\n",
    "\n",
    "    clearDisplay()\n",
    "\n",
    "    number = getRandomNumber(round(digitCountFloat))\n",
    "    print(number)\n",
    "    print(\"-\"*len(number))\n",
    "    if (score): print(\"Score:\", score)\n",
    "    if (mistakes): print(\"Mistakes:\", f\"{mistakes}/3\")\n",
    "    sleep(timeInterval)\n",
    "\n",
    "    clearDisplay()\n",
    "    playerNumber = input(\"> Enter The Number: \")\n",
    "    clearDisplay()\n",
    "\n",
    "    if (number == playerNumber):\n",
    "        print(\"(*) Correct! Proceeding to next question...\")\n",
    "        score += 1\n",
    "        highestDigitRemembered = round(digitCountFloat)\n",
    "        sleep(2)\n",
    "    else:\n",
    "        print(\"(*) Oops. That's incorrect.\")\n",
    "        print(\"Number         :\", number)\n",
    "        print(\"Your Number    :\", playerNumber)\n",
    "        mistakes += 1\n",
    "        sleep(7)\n",
    "    clearDisplay()\n",
    "\n",
    "    if (mistakes >= 3):\n",
    "        difficulty = [\"Easy\", \"Medium\", \"Hard\", \"Challenge\"][presetIndex] \n",
    "        print(\"(!) Game Over!\")\n",
    "        print(\"Score:\", score)\n",
    "        print(\"Difficulty:\", difficulty)\n",
    "        print(\"Highest No. Of Digits Remembered:\", highestDigitRemembered)\n",
    "        return\n",
    "    \n",
    "    preset[0] = digitCountFloat + digitIncrementPerRound\n",
    "    preset[2] = timeInterval + timeIncrementPerRound\n",
    "    startNewRound(preset)\n",
    "\n",
    "print(\"======\\n[MEMO]\\n======\") \n",
    "input(\"> Start Game? (quit anytime by using CTRL+D): \")\n",
    "presetIndex = int(input(\"> Choose Difficulty Number (1:easy, 2:medium, 3:hard, 4:challenge): \"))-1\n",
    "startNewRound(difficultyPreset[presetIndex])"
   ]
  }
 ],
 "metadata": {
  "kernelspec": {
   "display_name": "Python 3",
   "language": "python",
   "name": "python3"
  },
  "language_info": {
   "codemirror_mode": {
    "name": "ipython",
    "version": 3
   },
   "file_extension": ".py",
   "mimetype": "text/x-python",
   "name": "python",
   "nbconvert_exporter": "python",
   "pygments_lexer": "ipython3",
   "version": "3.11.2"
  }
 },
 "nbformat": 4,
 "nbformat_minor": 2
}
